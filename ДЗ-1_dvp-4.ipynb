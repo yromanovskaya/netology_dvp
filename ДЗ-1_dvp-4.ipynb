{
 "cells": [
  {
   "cell_type": "markdown",
   "metadata": {},
   "source": [
    "# ДЗ-1 dvp-4"
   ]
  },
  {
   "cell_type": "code",
   "execution_count": 8,
   "metadata": {},
   "outputs": [],
   "source": [
    "import numpy as np\n",
    "import pandas as pd\n",
    "\n",
    "from sklearn.linear_model import LinearRegression"
   ]
  },
  {
   "cell_type": "markdown",
   "metadata": {},
   "source": [
    "Генерируем датасет: \n",
    "Целевая метка - затраты на электроэнергию.\n",
    "В признаки добавляем:\n",
    "- Количество жильцов (residents)- генерируем рендомно в интервале 1-10\n",
    "- Количество ламп в доме (lamps) - генерируем рендомно - 10-200\n",
    "- Количество квадратных метров в доме (square) - генерируем рендомно - 15-100\n",
    "- Целевая метка - затраты на электроэенергию: произведение кол-ва жильцов на кол-во метров квадратных, умноженное на показатель 250 (затраты на 1-го жильца на 1 кв.м. в мес), плюс расходы в мес неа электроэнергию в помещениях общественного пользования - 1000. \n",
    "Считаем, что количество ламп не влияет, влияет только количество освещаемых метров. "
   ]
  },
  {
   "cell_type": "code",
   "execution_count": 9,
   "metadata": {},
   "outputs": [
    {
     "data": {
      "text/html": [
       "<div>\n",
       "<style scoped>\n",
       "    .dataframe tbody tr th:only-of-type {\n",
       "        vertical-align: middle;\n",
       "    }\n",
       "\n",
       "    .dataframe tbody tr th {\n",
       "        vertical-align: top;\n",
       "    }\n",
       "\n",
       "    .dataframe thead th {\n",
       "        text-align: right;\n",
       "    }\n",
       "</style>\n",
       "<table border=\"1\" class=\"dataframe\">\n",
       "  <thead>\n",
       "    <tr style=\"text-align: right;\">\n",
       "      <th></th>\n",
       "      <th>residents</th>\n",
       "      <th>lamps</th>\n",
       "      <th>square</th>\n",
       "      <th>cost</th>\n",
       "    </tr>\n",
       "  </thead>\n",
       "  <tbody>\n",
       "    <tr>\n",
       "      <th>0</th>\n",
       "      <td>5</td>\n",
       "      <td>15</td>\n",
       "      <td>97</td>\n",
       "      <td>122250</td>\n",
       "    </tr>\n",
       "    <tr>\n",
       "      <th>1</th>\n",
       "      <td>6</td>\n",
       "      <td>189</td>\n",
       "      <td>24</td>\n",
       "      <td>37000</td>\n",
       "    </tr>\n",
       "    <tr>\n",
       "      <th>2</th>\n",
       "      <td>6</td>\n",
       "      <td>92</td>\n",
       "      <td>75</td>\n",
       "      <td>113500</td>\n",
       "    </tr>\n",
       "    <tr>\n",
       "      <th>3</th>\n",
       "      <td>1</td>\n",
       "      <td>104</td>\n",
       "      <td>56</td>\n",
       "      <td>15000</td>\n",
       "    </tr>\n",
       "    <tr>\n",
       "      <th>4</th>\n",
       "      <td>1</td>\n",
       "      <td>21</td>\n",
       "      <td>77</td>\n",
       "      <td>20250</td>\n",
       "    </tr>\n",
       "  </tbody>\n",
       "</table>\n",
       "</div>"
      ],
      "text/plain": [
       "   residents  lamps  square    cost\n",
       "0          5     15      97  122250\n",
       "1          6    189      24   37000\n",
       "2          6     92      75  113500\n",
       "3          1    104      56   15000\n",
       "4          1     21      77   20250"
      ]
     },
     "execution_count": 9,
     "metadata": {},
     "output_type": "execute_result"
    }
   ],
   "source": [
    "n_samples = 500\n",
    "\n",
    "residents = np.random.choice(9, n_samples) + 1\n",
    "lamps = np.random.choice(190, n_samples) + 10\n",
    "square = np.random.choice(85, n_samples) + 15\n",
    "\n",
    "cost = residents * square * 250 + 1000\n",
    "\n",
    "data = pd.DataFrame({'residents': residents, 'lamps': lamps, 'square': square,'cost': cost})\n",
    "data.head(5)"
   ]
  },
  {
   "cell_type": "markdown",
   "metadata": {},
   "source": [
    "Смотрим весовые коэффициенты линейной модели"
   ]
  },
  {
   "cell_type": "code",
   "execution_count": 11,
   "metadata": {},
   "outputs": [
    {
     "name": "stdout",
     "output_type": "stream",
     "text": [
      "Weights: [1.37878692e+04 2.68571649e+00 1.22995865e+03]\n",
      "Bias: -65885.51234721893\n",
      "Error: 11316.451283687305\n"
     ]
    }
   ],
   "source": [
    "from sklearn.metrics import mean_absolute_error\n",
    "\n",
    "X = data[['residents', 'lamps','square']]\n",
    "y = data['cost']\n",
    "reg = LinearRegression().fit(X, y)\n",
    "print('Weights: {}'.format(reg.coef_))\n",
    "print('Bias: {}'.format(reg.intercept_))\n",
    "\n",
    "pred_values = reg.predict(data[['residents', 'lamps','square']])\n",
    "print('Error: {}'.format(mean_absolute_error(pred_values, y)))"
   ]
  },
  {
   "cell_type": "markdown",
   "metadata": {},
   "source": [
    "Видим, что у lamps весосвой коэффициент много ниже весов residents и square.\n",
    "Исключим lamps из анализа "
   ]
  },
  {
   "cell_type": "code",
   "execution_count": 13,
   "metadata": {},
   "outputs": [
    {
     "name": "stdout",
     "output_type": "stream",
     "text": [
      "Weights: [13789.37356165  1229.80806998]\n",
      "Bias: -65603.55194923075\n",
      "Error: 11315.87399884007\n"
     ]
    }
   ],
   "source": [
    "from sklearn.metrics import mean_absolute_error\n",
    "\n",
    "X = data[['residents', 'square']]\n",
    "y = data['cost']\n",
    "reg = LinearRegression().fit(X, y)\n",
    "print('Weights: {}'.format(reg.coef_))\n",
    "print('Bias: {}'.format(reg.intercept_))\n",
    "\n",
    "pred_values = reg.predict(data[['residents', 'square']])\n",
    "print('Error: {}'.format(mean_absolute_error(pred_values, y)))"
   ]
  },
  {
   "cell_type": "markdown",
   "metadata": {},
   "source": [
    "Видим, что веса residents и square примерно отличаются в 10 раз. Как и данные их series. Предположим, что необоходимо ввести новый признак, являющийся их произведением."
   ]
  },
  {
   "cell_type": "code",
   "execution_count": 15,
   "metadata": {},
   "outputs": [
    {
     "name": "stdout",
     "output_type": "stream",
     "text": [
      "Weights: [250.]\n",
      "Bias: 1000.0000000000146\n",
      "Error: 7.201379048638046e-12\n"
     ]
    }
   ],
   "source": [
    "data['mult'] = data['residents'] * data['square']\n",
    "\n",
    "X = data[['mult']]\n",
    "y = data['cost']\n",
    "reg = LinearRegression().fit(X, y)\n",
    "print('Weights: {}'.format(reg.coef_))\n",
    "print('Bias: {}'.format(reg.intercept_))\n",
    "\n",
    "pred_values = reg.predict(data[['mult']])\n",
    "print('Error: {}'.format(mean_absolute_error(pred_values, y)))"
   ]
  },
  {
   "cell_type": "markdown",
   "metadata": {},
   "source": [
    "Предположение подтвердилось - введение вновь созданного признака было удачным решением. Ошибка результата анализа стремится к нулю.\n",
    "При этом мы понимаем, что у линейной функции множителем рабочего признака будет 250, а смещение по оси y - 1000."
   ]
  }
 ],
 "metadata": {
  "kernelspec": {
   "display_name": "Python 3",
   "language": "python",
   "name": "python3"
  },
  "language_info": {
   "codemirror_mode": {
    "name": "ipython",
    "version": 3
   },
   "file_extension": ".py",
   "mimetype": "text/x-python",
   "name": "python",
   "nbconvert_exporter": "python",
   "pygments_lexer": "ipython3",
   "version": "3.7.3"
  }
 },
 "nbformat": 4,
 "nbformat_minor": 2
}
